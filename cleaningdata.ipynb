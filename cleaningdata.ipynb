{
 "cells": [
  {
   "cell_type": "code",
   "execution_count": null,
   "id": "db6699c9",
   "metadata": {},
   "outputs": [
    {
     "name": "stdout",
     "output_type": "stream",
     "text": [
      "Загрузка данных из datajob.csv...\n",
      "Начинаю очистку данных...\n",
      "Очистка завершена. Найдено 18973 валидных вакансий.\n",
      "Сохраняю результат в cleaned_jobs.csv...\n",
      "\n",
      "Готово! Теперь вы можете использовать файл 'cleaned_jobs.csv' в вашем боте.\n",
      "Не забудьте убедиться, что код в bot.py использует именно этот файл.\n"
     ]
    }
   ],
   "source": [
    "import pandas as pd\n",
    "import re\n",
    "\n",
    "# Загружаем исходный датасет\n",
    "try:\n",
    "    df = pd.read_csv('datajob.csv') # Предположим, ваш файл называется data.csv\n",
    "except FileNotFoundError:\n",
    "    print(\"Ошибка: Файл data.csv не найден!\")\n",
    "    exit()\n",
    "\n",
    "# 1. Выбираем колонки для поиска\n",
    "# fillna('') заменяет пустые значения (NaN) на пустые строки\n",
    "cols_for_search = ['Title', 'Company', 'JobDescription', 'JobRequirment', 'RequiredQual']\n",
    "for col in cols_for_search:\n",
    "    df[col] = df[col].fillna('')\n",
    "\n",
    "# 2. Создаем колонку SearchText\n",
    "df['SearchText'] = df[cols_for_search].agg(' '.join, axis=1)\n",
    "\n",
    "# 3. Функция для очистки текста\n",
    "def clean_text(text):\n",
    "    text = text.lower()  # Приводим к нижнему регистру\n",
    "    text = re.sub(r'[\\n\\r]', ' ', text) # Удаляем переносы строк\n",
    "    text = re.sub(r'[^\\w\\s]', '', text) # Удаляем все, что не является буквой, цифрой или пробелом\n",
    "    text = re.sub(r'\\s+', ' ', text).strip() # Удаляем лишние пробелы\n",
    "    return text\n",
    "\n",
    "# Применяем очистку к нашей поисковой колонке\n",
    "df['SearchText'] = df['SearchText'].apply(clean_text)\n",
    "\n",
    "# Также нужно подготовить данные для вывода пользователю\n",
    "# Убираем переносы строк, чтобы в боте не было \"рваного\" текста\n",
    "df['title'] = df['Title'].fillna('Без названия').str.replace(r'[\\n\\r]', ' ', regex=True).str.strip()\n",
    "df['company'] = df['Company'].fillna('Не указана').str.replace(r'[\\n\\r]', ' ', regex=True).str.strip()\n",
    "df['location'] = df['Location'].fillna('Не указан').str.replace(r'[\\n\\r]', ' ', regex=True).str.strip()\n",
    "\n",
    "# 4. Сохраняем очищенный датафрейм в новый файл\n",
    "# Выбираем только нужные колонки, чтобы файл был меньше\n",
    "cleaned_df = df[['title', 'company', 'location', 'SearchText']]\n",
    "cleaned_df.to_csv('cleaned_jobs.csv', index=False)\n",
    "\n",
    "print(f\"Датасет успешно очищен и сохранен в 'cleaned_jobs.csv'. Обработано {len(cleaned_df)} вакансий.\")"
   ]
  }
 ],
 "metadata": {
  "kernelspec": {
   "display_name": "Python 3",
   "language": "python",
   "name": "python3"
  },
  "language_info": {
   "codemirror_mode": {
    "name": "ipython",
    "version": 3
   },
   "file_extension": ".py",
   "mimetype": "text/x-python",
   "name": "python",
   "nbconvert_exporter": "python",
   "pygments_lexer": "ipython3",
   "version": "3.12.0"
  }
 },
 "nbformat": 4,
 "nbformat_minor": 5
}
